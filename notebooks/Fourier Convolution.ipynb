{
 "cells": [
  {
   "cell_type": "markdown",
   "metadata": {},
   "source": [
    "The [Fourier convolution theorem](https://en.wikipedia.org/wiki/Convolution_theorem) states that convolution in real space is equivalent to multiplication in Fourier space. Mathematically:\n",
    "\\begin{equation}\n",
    "\\mathcal{F}(f * g) = \\mathcal{F}(f) \\times \\mathcal{F}(g)\n",
    "\\end{equation}\n",
    "When used numerically one has to wonder what happens to the edges of the data. As the FFT implicitly assumes that the data repeats forever this means that Fourier convolution done with an FFt is equivalent to convolving in real space with _wrapped_ data."
   ]
  },
  {
   "cell_type": "code",
   "execution_count": null,
   "metadata": {
    "collapsed": true
   },
   "outputs": [],
   "source": [
    "import numpy as np\n",
    "from numpy.fft import *\n",
    "\n",
    "%matplotlib inline\n",
    "from matplotlib import pyplot as plt\n",
    "from scipy.ndimage import convolve\n",
    "from scipy.signal import fftconvolve"
   ]
  },
  {
   "cell_type": "code",
   "execution_count": null,
   "metadata": {
    "collapsed": false
   },
   "outputs": [],
   "source": [
    "plt.set_cmap(\"inferno\")"
   ]
  },
  {
   "cell_type": "markdown",
   "metadata": {},
   "source": [
    "The basic plan will be to generate some simulation data and a kernel to convolve it with and then test the various methods against one another."
   ]
  },
  {
   "cell_type": "code",
   "execution_count": null,
   "metadata": {
    "collapsed": false
   },
   "outputs": [],
   "source": [
    "sim_size = 128\n",
    "# make kernel\n",
    "kernel = np.zeros((sim_size, sim_size))\n",
    "kernel[sim_size // 2 - 2 : sim_size // 2 + 3, sim_size // 2 - 2 : sim_size // 2 + 3] = 1\n",
    "# make data\n",
    "data = np.random.randn(sim_size, sim_size)\n",
    "plt.matshow(kernel)\n",
    "plt.matshow(data)"
   ]
  },
  {
   "cell_type": "code",
   "execution_count": null,
   "metadata": {
    "collapsed": false
   },
   "outputs": [],
   "source": [
    "# do the fourier convolution, \"matlab\" style\n",
    "k_kernel = rfftn(ifftshift(kernel), data.shape)\n",
    "k_data = rfftn(data, data.shape)\n",
    "convolve_data0 = irfftn(k_kernel * k_data, data.shape)\n",
    "plt.matshow(convolve_data0)"
   ]
  },
  {
   "cell_type": "code",
   "execution_count": null,
   "metadata": {
    "collapsed": false
   },
   "outputs": [],
   "source": [
    "# make sure that the kernel is placed in the right place (imaginary part should be zero)\n",
    "plt.matshow(k_kernel.real)\n",
    "plt.colorbar()\n",
    "plt.matshow(k_kernel.imag)\n",
    "plt.colorbar()"
   ]
  },
  {
   "cell_type": "code",
   "execution_count": null,
   "metadata": {
    "collapsed": false
   },
   "outputs": [],
   "source": [
    "# check that real space convolution works as expected\n",
    "np.allclose(convolve(data, np.ones((5, 5))), convolve(data, kernel))"
   ]
  },
  {
   "cell_type": "code",
   "execution_count": null,
   "metadata": {
    "collapsed": false
   },
   "outputs": [],
   "source": [
    "# check reflection mode\n",
    "convolve_data_reflect = convolve(data, np.ones((5, 5)))\n",
    "plt.matshow(convolve_data_realspace - convolve_data0)\n",
    "np.allclose(convolve_data_realspace, convolve_data0)"
   ]
  },
  {
   "cell_type": "code",
   "execution_count": null,
   "metadata": {
    "collapsed": false
   },
   "outputs": [],
   "source": [
    "# check wrap mode\n",
    "convolve_data_wrap = convolve(data, np.ones((5, 5)), mode=\"wrap\")\n",
    "plt.matshow(convolve_data_wrap - convolve_data0)\n",
    "plt.colorbar()\n",
    "np.allclose(convolve_data_wrap, convolve_data0)"
   ]
  },
  {
   "cell_type": "markdown",
   "metadata": {},
   "source": [
    "It's clear from this that Fourier convolution (using the FFT) is equivalent to real space convolution when the edges are wrapped around.\n",
    "\n",
    "Now let's take a look at SciPy's `fftconvolve` function."
   ]
  },
  {
   "cell_type": "code",
   "execution_count": null,
   "metadata": {
    "collapsed": false
   },
   "outputs": [],
   "source": [
    "# scipy's FFT convolution doesn't work quite the same way, it will pad\n",
    "# out the data first with zeros so that the convolution doesn't wrap\n",
    "# around, this leads to some shifting.\n",
    "convolve_data_sp = fftconvolve(data, np.ones((5, 5)), \"same\")\n",
    "plt.matshow(convolve_data_sp - convolve_data0)\n",
    "plt.colorbar()\n",
    "np.allclose(convolve_data_sp, convolve_data0)"
   ]
  },
  {
   "cell_type": "code",
   "execution_count": null,
   "metadata": {
    "collapsed": false
   },
   "outputs": [],
   "source": [
    "# note that if we had used a kernel (which was already fft_padded) we'd\n",
    "# have to reverse it because of the way fftconvolve pads the data internally\n",
    "convolve_data_sp = fftconvolve(data, kernel[::-1, ::-1], \"same\")\n",
    "plt.matshow(convolve_data_sp - convolve_data0)\n",
    "plt.colorbar()\n",
    "np.allclose(convolve_data_sp, convolve_data0)"
   ]
  },
  {
   "cell_type": "code",
   "execution_count": null,
   "metadata": {
    "collapsed": false
   },
   "outputs": [],
   "source": [
    "# But if we pad with zeros then the convolutions agree\n",
    "convolve_data_zeros = convolve(data, np.ones((5, 5)), mode=\"constant\")\n",
    "plt.matshow(convolve_data_zeros - convolve_data_sp)\n",
    "plt.colorbar()\n",
    "np.allclose(convolve_data_zeros, convolve_data_sp)"
   ]
  },
  {
   "cell_type": "markdown",
   "metadata": {},
   "source": [
    "The main findings are:\n",
    "- Simple straight forward fft convolve is equivalent to convolution with wrapping the edges.\n",
    "- SciPy's version of fft convolve is equivalent to convoltuion with padding with zeros at the edges.\n",
    "\n",
    "Now the question is: when does the fftshifting really have to happen in the straight forward version?"
   ]
  },
  {
   "cell_type": "code",
   "execution_count": null,
   "metadata": {
    "collapsed": false
   },
   "outputs": [],
   "source": [
    "# need new data for this\n",
    "from skimage.draw import circle_perimeter\n",
    "\n",
    "data = np.zeros((sim_size, sim_size))\n",
    "data[circle_perimeter(sim_size // 2, sim_size // 2, sim_size // 4)] = 1\n",
    "\n",
    "fig, axs = plt.subplots(2, 3, sharex=True, sharey=True, figsize=(12, 8))\n",
    "axs = axs.ravel()\n",
    "\n",
    "k_kernel = rfftn(ifftshift(kernel), data.shape)\n",
    "k_data = rfftn(data, data.shape)\n",
    "convolve_data0 = irfftn(k_kernel * k_data, data.shape)\n",
    "axs[0].matshow(convolve_data0)\n",
    "axs[0].set_title(\"Matlab Method\")\n",
    "\n",
    "k_kernel = rfftn(kernel, data.shape)\n",
    "k_data = rfftn(data, data.shape)\n",
    "convolve_data1 = irfftn(k_kernel * k_data, data.shape)\n",
    "axs[1].matshow(convolve_data1)\n",
    "axs[1].set_title(\"No shifting\")\n",
    "\n",
    "k_kernel = rfftn(kernel, data.shape)\n",
    "k_data = rfftn(ifftshift(data), data.shape)\n",
    "convolve_data2 = irfftn(k_kernel * k_data, data.shape)\n",
    "axs[2].matshow(convolve_data2)\n",
    "axs[2].set_title(\"Shift Data\")\n",
    "\n",
    "k_kernel = rfftn(kernel, data.shape)\n",
    "k_data = rfftn(data, data.shape)\n",
    "convolve_data3 = irfftn(fftshift(k_kernel * k_data), data.shape)\n",
    "axs[3].matshow(convolve_data3)\n",
    "axs[3].set_title(\"Shift product\")\n",
    "\n",
    "k_kernel = rfftn(kernel, data.shape)\n",
    "k_data = rfftn(data, data.shape)\n",
    "convolve_data4 = irfftn(fftshift(k_kernel) * k_data, data.shape)\n",
    "axs[4].matshow(convolve_data4)\n",
    "axs[4].set_title(\"Shift k_kernel\")\n",
    "\n",
    "k_kernel = rfftn(ifftshift(kernel), data.shape)\n",
    "k_data = rfftn(ifftshift(data), data.shape)\n",
    "convolve_data5 = fftshift(irfftn(k_kernel * k_data, data.shape))\n",
    "axs[5].matshow(convolve_data5)\n",
    "axs[5].set_title(\"fftshift result\")"
   ]
  },
  {
   "cell_type": "markdown",
   "metadata": {},
   "source": [
    "Shifting has to happen to either the data or the kernel which makes sense as they're mathematically equivalent in this case. Or we can just fftshift the result.\n",
    "\n",
    "All of these make sense because if we don't shift the kernel then it's equivalent to convolving with a shifted (or split) kernel. All of which doesn't reall matter because the FFT assumes that the data is wrapped around (repeating infinitely)."
   ]
  },
  {
   "cell_type": "code",
   "execution_count": null,
   "metadata": {
    "collapsed": true
   },
   "outputs": [],
   "source": []
  }
 ],
 "metadata": {
  "kernelspec": {
   "display_name": "Python [default]",
   "language": "python",
   "name": "python3"
  },
  "language_info": {
   "codemirror_mode": {
    "name": "ipython",
    "version": 3
   },
   "file_extension": ".py",
   "mimetype": "text/x-python",
   "name": "python",
   "nbconvert_exporter": "python",
   "pygments_lexer": "ipython3",
   "version": "3.5.2"
  }
 },
 "nbformat": 4,
 "nbformat_minor": 2
}
